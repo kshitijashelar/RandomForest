{
  "nbformat": 4,
  "nbformat_minor": 0,
  "metadata": {
    "colab": {
      "name": "Untitled13.ipynb",
      "provenance": [],
      "collapsed_sections": []
    },
    "kernelspec": {
      "name": "python3",
      "display_name": "Python 3"
    },
    "language_info": {
      "name": "python"
    }
  },
  "cells": [
    {
      "cell_type": "code",
      "metadata": {
        "colab": {
          "base_uri": "https://localhost:8080/"
        },
        "id": "1xL8nrPPRTh6",
        "outputId": "430f8e45-85c5-496c-c162-1064d8e6f3b8"
      },
      "source": [
        "import pandas as pd\n",
        "import numpy as np\n",
        "import seaborn as sns\n",
        "import nltk\n",
        "from nltk.corpus import stopwords\n",
        "import re\n",
        "import string\n",
        "import nltk\n",
        "\n",
        "nltk.download('stopwords')\n",
        "stopwords = nltk.corpus.stopwords.words('english')\n",
        "ps = nltk.PorterStemmer()\n",
        "\n",
        "data = pd.read_csv(\"spam1.csv\")\n",
        "data.columns = ['labels','body_text']\n"
      ],
      "execution_count": 4,
      "outputs": [
        {
          "output_type": "stream",
          "text": [
            "[nltk_data] Downloading package stopwords to /root/nltk_data...\n",
            "[nltk_data]   Package stopwords is already up-to-date!\n"
          ],
          "name": "stdout"
        }
      ]
    },
    {
      "cell_type": "code",
      "metadata": {
        "id": "C6OWOIGoSrUj"
      },
      "source": [
        "def count_punct(text):\n",
        "    count = sum([1 for char in text if char in string.punctuation])\n",
        "    return round(count/(len(text) - text.count(\" \")),3)*100\n",
        "    \n",
        "\n",
        "data['body_len'] = data['body_text'].apply(lambda x: len(x) - x.count(\" \"))\n",
        "data['punct%'] = data['body_text'].apply(lambda x : count_punct(x))"
      ],
      "execution_count": 6,
      "outputs": []
    },
    {
      "cell_type": "code",
      "metadata": {
        "colab": {
          "base_uri": "https://localhost:8080/",
          "height": 265
        },
        "id": "uARoT01-SooR",
        "outputId": "ab5ac897-20b6-4545-98f1-4329eb75feb1"
      },
      "source": [
        "from matplotlib import pyplot\n",
        "\n",
        "bins = np.linspace(0,200,40)\n",
        "\n",
        "pyplot.hist(data[data['labels']=='spam']['body_len'], bins, alpha=0.5,  label='spam')\n",
        "pyplot.hist(data[data['labels']=='ham']['body_len'], bins, alpha=0.5, label='ham')\n",
        "pyplot.legend(loc='upper left')\n",
        "\n",
        "pyplot.show()"
      ],
      "execution_count": 12,
      "outputs": [
        {
          "output_type": "display_data",
          "data": {
            "image/png": "[encoded data removed]",
            "text/plain": [
              "<Figure size 432x288 with 1 Axes>"
            ]
          },
          "metadata": {
            "tags": [],
            "needs_background": "light"
          }
        }
      ]
    },
    {
      "cell_type": "code",
      "metadata": {
        "id": "5NoCVewGSpcv"
      },
      "source": [
        "def clean_text(text):\n",
        "    text = \"\".join([word.lower() for word in text if word not in string.punctuation])\n",
        "    tokens = re.split('\\W+', text)\n",
        "    text = [ps.stem(word) for word in tokens if word not in stopwords]\n",
        "    return text\n"
      ],
      "execution_count": 8,
      "outputs": []
    },
    {
      "cell_type": "code",
      "metadata": {
        "id": "Pm2-IUmcSxqt"
      },
      "source": [
        "from sklearn.feature_extraction.text import TfidfVectorizer\n",
        "tfidf_vect = TfidfVectorizer(analyzer=clean_text)\n",
        "X_tfidf = tfidf_vect.fit_transform(data['body_text'])\n",
        "\n",
        "\n",
        "X_features = pd.concat([data['body_len'], data['punct%'], pd.DataFrame(X_tfidf.toarray())], axis=1)\n"
      ],
      "execution_count": 9,
      "outputs": []
    },
    {
      "cell_type": "code",
      "metadata": {
        "id": "x6xNmcTAS4dL"
      },
      "source": [
        "\n",
        "from sklearn.ensemble import RandomForestClassifier\n",
        "from sklearn.metrics import precision_recall_fscore_support as score\n",
        "from sklearn.model_selection import train_test_split\n",
        "\n",
        "X_train, X_test, y_train, y_test = train_test_split(X_features, data['labels'], test_size=0.2)\n",
        "\n",
        "def train_RF(n_est, depth):\n",
        "    rf = RandomForestClassifier(n_estimators=n_est, max_depth=depth, n_jobs=-1)\n",
        "    rf_model = rf.fit(X_train, y_train)\n",
        "    #sorted(zip(rf_model.feature_importances, X_train.columns), reverse=True)\n",
        "    y_pred = rf_model.predict(X_test)\n",
        "    precision, recall, fscore, support = score(y_test, y_pred, pos_label='spam', average='binary')\n",
        "    print('Estimators: {} / Depth: {} -- Precision: {} / Recall: {} / Accuracy: {}'.format(\n",
        "            n_est, depth, round(precision, 3), round(recall, 3),\n",
        "            round((y_pred==y_test).sum()/len(y_pred),3)))\n",
        "    "
      ],
      "execution_count": 10,
      "outputs": []
    },
    {
      "cell_type": "code",
      "metadata": {
        "colab": {
          "base_uri": "https://localhost:8080/"
        },
        "id": "5Sc_INA3SXwk",
        "outputId": "dc2145d9-d397-4d4d-af8a-de112bf61b5b"
      },
      "source": [
        "for n_est in [10,50,100]:\n",
        "    for depth in [10,20,30,None]:\n",
        "        train_RF(n_est, depth)"
      ],
      "execution_count": 11,
      "outputs": [
        {
          "output_type": "stream",
          "text": [
            "Estimators: 10 / Depth: 10 -- Precision: 1.0 / Recall: 0.293 / Accuracy: 0.911\n",
            "Estimators: 10 / Depth: 20 -- Precision: 0.987 / Recall: 0.543 / Accuracy: 0.942\n",
            "Estimators: 10 / Depth: 30 -- Precision: 1.0 / Recall: 0.629 / Accuracy: 0.953\n",
            "Estimators: 10 / Depth: None -- Precision: 1.0 / Recall: 0.764 / Accuracy: 0.97\n",
            "Estimators: 50 / Depth: 10 -- Precision: 1.0 / Recall: 0.236 / Accuracy: 0.904\n",
            "Estimators: 50 / Depth: 20 -- Precision: 1.0 / Recall: 0.593 / Accuracy: 0.949\n",
            "Estimators: 50 / Depth: 30 -- Precision: 1.0 / Recall: 0.7 / Accuracy: 0.962\n",
            "Estimators: 50 / Depth: None -- Precision: 0.991 / Recall: 0.821 / Accuracy: 0.977\n",
            "Estimators: 100 / Depth: 10 -- Precision: 1.0 / Recall: 0.286 / Accuracy: 0.91\n",
            "Estimators: 100 / Depth: 20 -- Precision: 1.0 / Recall: 0.607 / Accuracy: 0.951\n",
            "Estimators: 100 / Depth: 30 -- Precision: 1.0 / Recall: 0.693 / Accuracy: 0.961\n",
            "Estimators: 100 / Depth: None -- Precision: 1.0 / Recall: 0.821 / Accuracy: 0.978\n"
          ],
          "name": "stdout"
        }
      ]
    }
  ]
}